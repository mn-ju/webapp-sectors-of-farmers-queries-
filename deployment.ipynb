{
  "nbformat": 4,
  "nbformat_minor": 0,
  "metadata": {
    "colab": {
      "provenance": [],
      "mount_file_id": "10yWlnj9XARr6fxEmRUoF_HTirMgxaoZi",
      "authorship_tag": "ABX9TyOeHt1+UJSt4+QjYRMYFBmB",
      "include_colab_link": true
    },
    "kernelspec": {
      "name": "python3",
      "display_name": "Python 3"
    },
    "language_info": {
      "name": "python"
    }
  },
  "cells": [
    {
      "cell_type": "markdown",
      "metadata": {
        "id": "view-in-github",
        "colab_type": "text"
      },
      "source": [
        "<a href=\"https://colab.research.google.com/github/mn-ju/webapp-sectors-of-farmers-queries-/blob/main/deployment.ipynb\" target=\"_parent\"><img src=\"https://colab.research.google.com/assets/colab-badge.svg\" alt=\"Open In Colab\"/></a>"
      ]
    },
    {
      "cell_type": "code",
      "metadata": {
        "colab": {
          "base_uri": "https://localhost:8080/"
        },
        "id": "ORpFl4eEeDPs",
        "outputId": "e7b549f5-3c59-48a1-d8a1-ad8e4e3313ce"
      },
      "source": [
        "!pip install streamlit --quiet\n",
        "!pip install pyngrok==4.1.1\n",
        "from pyngrok import ngrok"
      ],
      "execution_count": null,
      "outputs": [
        {
          "output_type": "stream",
          "text": [
            "\u001b[K     |████████████████████████████████| 8.2MB 27.9MB/s \n",
            "\u001b[K     |████████████████████████████████| 81kB 9.0MB/s \n",
            "\u001b[K     |████████████████████████████████| 112kB 56.9MB/s \n",
            "\u001b[K     |████████████████████████████████| 4.2MB 43.4MB/s \n",
            "\u001b[K     |████████████████████████████████| 174kB 48.6MB/s \n",
            "\u001b[K     |████████████████████████████████| 122kB 44.6MB/s \n",
            "\u001b[K     |████████████████████████████████| 71kB 8.5MB/s \n",
            "\u001b[?25h  Building wheel for blinker (setup.py) ... \u001b[?25l\u001b[?25hdone\n",
            "\u001b[31mERROR: google-colab 1.0.0 has requirement ipykernel~=4.10, but you'll have ipykernel 5.5.5 which is incompatible.\u001b[0m\n",
            "Collecting pyngrok==4.1.1\n",
            "  Downloading https://files.pythonhosted.org/packages/e4/a9/de2e15c92eb3aa4a2646ce3a7542317eb69ac47f667578ce8bf916320847/pyngrok-4.1.1.tar.gz\n",
            "Requirement already satisfied: future in /usr/local/lib/python3.7/dist-packages (from pyngrok==4.1.1) (0.16.0)\n",
            "Requirement already satisfied: PyYAML in /usr/local/lib/python3.7/dist-packages (from pyngrok==4.1.1) (3.13)\n",
            "Building wheels for collected packages: pyngrok\n",
            "  Building wheel for pyngrok (setup.py) ... \u001b[?25l\u001b[?25hdone\n",
            "  Created wheel for pyngrok: filename=pyngrok-4.1.1-cp37-none-any.whl size=15985 sha256=10d1a2735be33ab2fdc175d869b0e97e47cd16c4a5831b3b4d95b10e8de1e631\n",
            "  Stored in directory: /root/.cache/pip/wheels/97/71/0d/1695f7c8815c0beb3b5d9b35d6eec9243c87e6070fbe3977fa\n",
            "Successfully built pyngrok\n",
            "Installing collected packages: pyngrok\n",
            "Successfully installed pyngrok-4.1.1\n"
          ],
          "name": "stdout"
        }
      ]
    },
    {
      "cell_type": "code",
      "metadata": {
        "colab": {
          "base_uri": "https://localhost:8080/"
        },
        "id": "-59z7IDbeSNh",
        "outputId": "df121530-34c4-4017-95dc-613915015d0f"
      },
      "source": [
        "%%writefile app.py\n",
        "# It is a magic command to create a .py file\n",
        "import streamlit as st\n",
        "import joblib\n",
        "model = joblib.load(\"/content/drive/MyDrive/Sector of farmers queries\")\n",
        "html_temp=\"\"\"\n",
        "<div style=\"background-color:white;padding:10px\">\n",
        "<h1 style=\"color:green;text-aling:center;\">WELCOME TO KISAN CALL CENTER </h1>\n",
        "</div>\n",
        "\"\"\"\n",
        "st.markdown(html_temp,unsafe_allow_html=True)\n",
        "st.image(\"/content/drive/MyDrive/Annotation 2021-06-05 131226.png\",clamp=False,channels=\"RGB\",output_format=\"auto\")\n",
        "st.subheader('Here we will help you to find the sector of your queries')\n",
        "name = st.text_input(\"Please enter your name:\",\"Type Here\")\n",
        "state = st.text_input(\"Please enter your state\",\"Type Here\")\n",
        "ip = st.text_input(\"Please enter your query:\",\"Type Here\")\n",
        "op = model.predict([ip])\n",
        "if st.button('NEXT'):\n",
        "  st.title(f\"Mr/Ms {name} of {state} state, Your query is registered in {op[0]} sector \\n\")\n",
        "  st.subheader(f\"please contact to  toll free number:1800-180-1551 and for BSNL landline Toll-Free number: 1551 \\n\")\n",
        "st.write(\"This is the Machine Learning webapp of accuracy level 90%\")\n",
        "\n"
      ],
      "execution_count": null,
      "outputs": [
        {
          "output_type": "stream",
          "text": [
            "Writing app.py\n"
          ],
          "name": "stdout"
        }
      ]
    },
    {
      "cell_type": "code",
      "metadata": {
        "colab": {
          "base_uri": "https://localhost:8080/",
          "height": 52
        },
        "id": "XwRMw5voenkw",
        "outputId": "937ec075-fcaf-4586-a502-a760cae1f3f8"
      },
      "source": [
        "!nohup streamlit run app.py &\n",
        "url = ngrok.connect(port='8501')\n",
        "url"
      ],
      "execution_count": null,
      "outputs": [
        {
          "output_type": "stream",
          "text": [
            "nohup: appending output to 'nohup.out'\n"
          ],
          "name": "stdout"
        },
        {
          "output_type": "execute_result",
          "data": {
            "application/vnd.google.colaboratory.intrinsic+json": {
              "type": "string"
            },
            "text/plain": [
              "'http://c8003bbf912c.ngrok.io'"
            ]
          },
          "metadata": {
            "tags": []
          },
          "execution_count": 3
        }
      ]
    },
    {
      "cell_type": "code",
      "metadata": {
        "id": "utJ4ljpOhM5R",
        "colab": {
          "base_uri": "https://localhost:8080/",
          "height": 35
        },
        "outputId": "b05aa9dd-e29c-49d4-b28d-bd3eb90e4b57"
      },
      "source": [
        "import sys\n",
        "sys.version"
      ],
      "execution_count": null,
      "outputs": [
        {
          "output_type": "execute_result",
          "data": {
            "application/vnd.google.colaboratory.intrinsic+json": {
              "type": "string"
            },
            "text/plain": [
              "'3.7.10 (default, May  3 2021, 02:48:31) \\n[GCC 7.5.0]'"
            ]
          },
          "metadata": {
            "tags": []
          },
          "execution_count": 4
        }
      ]
    },
    {
      "cell_type": "code",
      "metadata": {
        "id": "iUseDO-TQ8K8"
      },
      "source": [
        "\n",
        "html_temp1=\"\"\"\n",
        "    <div style=\"background-color:white;padding:20px\">\n",
        "    <h1 style=\"color:red;text-aling:center;\">This is the Machine Learning webapp of accuracy level 90% </h1>\n",
        "    </div>\n",
        "    \"\"\"\n",
        "st.markdown(html_temp1,unsafe_allow_html=True)\n",
        "html_temp2=\"\"\"\n",
        "    <div style=\"background-color:white;padding:20px\">\n",
        "    <h1 style=\"color:red;text-aling:center;\">THANKYOU</h1>\n",
        "    </div>\n",
        "    \"\"\"\n",
        "st.markdown(html_temp2,unsafe_allow_html=True)"
      ],
      "execution_count": null,
      "outputs": []
    }
  ]
}